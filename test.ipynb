{
 "cells": [
  {
   "cell_type": "markdown",
   "metadata": {},
   "source": [
    " #### **Basic operations using pytesseract:**"
   ]
  },
  {
   "cell_type": "code",
   "execution_count": 19,
   "metadata": {},
   "outputs": [],
   "source": [
    "import pytesseract"
   ]
  },
  {
   "cell_type": "code",
   "execution_count": 20,
   "metadata": {},
   "outputs": [],
   "source": [
    "pytesseract.pytesseract.tesseract_cmd = 'C:/Users/Rida Abid/AppData/Local/Programs/Tesseract-OCR/tesseract.exe'\n",
    "text = pytesseract.image_to_string('test-img-01.png')"
   ]
  },
  {
   "cell_type": "code",
   "execution_count": 21,
   "metadata": {},
   "outputs": [
    {
     "data": {
      "text/plain": [
       "'Declaration for Mental Health Treatment (DMHT)\\n\\nI, , being an adult of sound mind, willfully and voluntarily make\\nthis declaration for mental health treatment to be followed if it is determined by a court that my ability to understand the nature\\nand consequences of a proposed treatment, including the benefits, risks, and alternatives to the proposed treatment, is impaired\\nto such an extent that | lack the capacity to make mental health treatment decisions. \"Mental health treatment\" means\\nelectroconvulsive or other convulsive treatment, treatment of mental illness with psychoactive medication, and preferences\\nregarding emergency mental health treatment.\\n\\n(OPTIONAL PARAGRAPH) | understand that | may become incapable of giving or withholding informed consent for mental\\nhealth treatment due to the symptoms of a diagnosed mental disorder. These symptoms may include:\\n\\nPSYCHOACTIVE MEDICATIONS\\n\\nIf | become incapable of giving or withholding informed consent for mental health treatment, my wishes regarding psychoactive\\nmedications are as follows:\\n\\n[_]| consent to the administration of the following medications:\\n\\n(J do not consent to the administration of the following medications:\\n\\n'"
      ]
     },
     "execution_count": 21,
     "metadata": {},
     "output_type": "execute_result"
    }
   ],
   "source": [
    "text"
   ]
  },
  {
   "cell_type": "markdown",
   "metadata": {},
   "source": [
    "#### Experimenting a new library:"
   ]
  },
  {
   "cell_type": "code",
   "execution_count": 22,
   "metadata": {},
   "outputs": [
    {
     "data": {
      "text/plain": [
       "8"
      ]
     },
     "execution_count": 22,
     "metadata": {},
     "output_type": "execute_result"
    }
   ],
   "source": [
    "import multiprocessing\n",
    "from multiprocessing import Pool\n",
    "cpu_count = multiprocessing.cpu_count()\n",
    "cpu_count"
   ]
  }
 ],
 "metadata": {
  "kernelspec": {
   "display_name": "Python 3",
   "language": "python",
   "name": "python3"
  },
  "language_info": {
   "codemirror_mode": {
    "name": "ipython",
    "version": 3
   },
   "file_extension": ".py",
   "mimetype": "text/x-python",
   "name": "python",
   "nbconvert_exporter": "python",
   "pygments_lexer": "ipython3",
   "version": "3.12.3"
  }
 },
 "nbformat": 4,
 "nbformat_minor": 2
}
